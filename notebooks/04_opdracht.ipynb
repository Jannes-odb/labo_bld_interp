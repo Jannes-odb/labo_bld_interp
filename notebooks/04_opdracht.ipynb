{
 "cells": [
  {
   "cell_type": "markdown",
   "id": "84619d80-cdf6-454e-8a34-8dfb6075e2f3",
   "metadata": {},
   "source": [
    "- Opdracht\n",
    "\t- Classificatiedataset met minstens 10 klassen, paar duizenden of tienduizenden foto's, niet meer dan 5 GB data.\n",
    "\t- Pas code van notebooks en de `.py` files aan naar de nieuwe data zodat je met `python train.py` een correct werkende training kan opstarten\n",
    "\t\t- 10/20\n",
    "\t- Voer de volgende experimenten uit:\n",
    "\t\t- Vergelijk accuracy van model dat met random weights en pretrained weights getraind wordt\n",
    "\t\t\t- 1 pt\n",
    "\t\t- Bepaal de beste learning rate voor batch sizes 5, 10, 15, 20, 25, 30 en bespreek de resultaten.\n",
    "\t\t\t- 2 pt\n",
    "\t\t- Breid de data transformation pipeline uit met augmentation(s) die jou zinvol lijk(en) voor de gekozen data. Visualiseer het effect van de pipeline op verschillende, willekeurig gekozen afbeeldingen. Train de data eens met en eens zonder de extra augmentations en bediscussieer de resultaten.\n",
    "\t\t\t- 2 pt\n",
    "\t\t- Voer de vorige experimenten uit met 5-fold cross-validatie (behalve eerste experiment)\n",
    "\t\t\t- 2 pt\n",
    "\t\t- Bepaal de beste hyperparameters na cross-validatie, train een nieuw model met alle folds.\n",
    "\t\t\t- Evalueer de globale accuracy\n",
    "\t\t\t\t- 1 pt\n",
    "\t\t\t- Evalueer de accuracy van de 5 grootste en 5 kleinste klassen.\n",
    "\t\t\t\t- 1 pt\n",
    "\t\t\t- Visualiseer de classificaties met hoge confidence die fout zijn en classificaties met lage confidence die juist zijn\n",
    "\t\t\t\t- 1 pt\n",
    "    - Bonus/malus van max. +/- 2 ptn mogelijk op basis van code\n",
    "\t- Maak verslag en stuur op als **PDF**, samen met link naar jouw publieke **GitHub repo** (geforked van originele repo) en de link naar jouw publiek **wandb project**"
   ]
  },
  {
   "cell_type": "code",
   "execution_count": null,
   "id": "3fa1f7aa-d26a-4182-98cf-cd7807f449ad",
   "metadata": {},
   "outputs": [],
   "source": []
  }
 ],
 "metadata": {
  "kernelspec": {
   "display_name": "Python 3 (ipykernel)",
   "language": "python",
   "name": "python3"
  },
  "language_info": {
   "codemirror_mode": {
    "name": "ipython",
    "version": 3
   },
   "file_extension": ".py",
   "mimetype": "text/x-python",
   "name": "python",
   "nbconvert_exporter": "python",
   "pygments_lexer": "ipython3",
   "version": "3.11.6"
  }
 },
 "nbformat": 4,
 "nbformat_minor": 5
}
