{
 "cells": [
  {
   "cell_type": "markdown",
   "id": "4535960d-ca4f-45da-843d-44ef139f3218",
   "metadata": {},
   "source": [
    "# 3. Creating your model"
   ]
  },
  {
   "cell_type": "markdown",
   "id": "c6fd28aa-60c3-42f4-93da-a89ad0e585e4",
   "metadata": {},
   "source": [
    "## 3.1 Writing a custom PyTorch model"
   ]
  },
  {
   "cell_type": "code",
   "execution_count": null,
   "id": "cf260ce8-70b9-400a-8789-1fa6a6ecbd84",
   "metadata": {},
   "outputs": [],
   "source": []
  },
  {
   "cell_type": "markdown",
   "id": "fe922179-cdf1-4cf0-807f-bf320e563f3d",
   "metadata": {},
   "source": [
    "## 3.2 Choosing a model from the TorchVision library"
   ]
  },
  {
   "cell_type": "code",
   "execution_count": null,
   "id": "4c30dc02-628c-42a1-8a32-682ccc6e1e88",
   "metadata": {},
   "outputs": [],
   "source": []
  }
 ],
 "metadata": {
  "kernelspec": {
   "display_name": "Python 3 (ipykernel)",
   "language": "python",
   "name": "python3"
  },
  "language_info": {
   "codemirror_mode": {
    "name": "ipython",
    "version": 3
   },
   "file_extension": ".py",
   "mimetype": "text/x-python",
   "name": "python",
   "nbconvert_exporter": "python",
   "pygments_lexer": "ipython3",
   "version": "3.11.6"
  }
 },
 "nbformat": 4,
 "nbformat_minor": 5
}
