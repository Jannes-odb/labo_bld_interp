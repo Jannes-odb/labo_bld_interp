{
 "cells": [
  {
   "cell_type": "markdown",
   "id": "e94a68d6-8096-4877-94e9-9d4bf8a61ce7",
   "metadata": {},
   "source": [
    "# 2. PyTorch dataset and data loader\n",
    "\n",
    "In the previous notebook, we have learned how to investigate our dataset. Next up, we'll want to create a PyTorch `Dataset` and a PyTorch `DataLoader`. These will help us get our data ready to be passed through a neural network."
   ]
  },
  {
   "cell_type": "markdown",
   "id": "b5d37052-c196-40d7-8f64-3c4468943576",
   "metadata": {},
   "source": [
    "## 2.1 Creating a PyTorch dataset\n",
    "\n",
    "A [PyTorch `Dataset`](https://pytorch.org/docs/stable/data.html#torch.utils.data.Dataset) is an abstract representation of a dataset. You can do two things with a PyTorch `Dataset`: get the *item* at a certain **index**, and get the **length** of the dataset (i.e., the number of *items*). That's all. What an *item* is, is entirely up to you, but in the case of classification, it is typically a tuple of an image and a class label.\n",
    "\n",
    "### 2.1.1 Built-in datasets\n",
    "\n",
    "Torchvision already includes [many datasets](https://pytorch.org/vision/stable/datasets.html) to play around with. Let's take a look at the [MNIST](https://pytorch.org/vision/stable/generated/torchvision.datasets.MNIST.html#torchvision.datasets.MNIST) dataset."
   ]
  },
  {
   "cell_type": "code",
   "execution_count": 1,
   "id": "ececd578-3ad8-4716-8f01-6f4a515cd45b",
   "metadata": {},
   "outputs": [],
   "source": [
    "from torchvision.datasets import MNIST\n",
    "\n",
    "mnist_ds = MNIST(root='../data', download=True)"
   ]
  },
  {
   "cell_type": "markdown",
   "id": "2cf2a345-1ce2-4cb8-8669-f6c7317e56a1",
   "metadata": {},
   "source": [
    "We can ask an item at a certain index:"
   ]
  },
  {
   "cell_type": "code",
   "execution_count": 2,
   "id": "ddc48dd3-17f3-4bb1-a784-30cca2c2a361",
   "metadata": {},
   "outputs": [
    {
     "data": {
      "text/plain": [
       "(<PIL.Image.Image image mode=L size=28x28>, 5)"
      ]
     },
     "execution_count": 2,
     "metadata": {},
     "output_type": "execute_result"
    }
   ],
   "source": [
    "mnist_ds[0]"
   ]
  },
  {
   "cell_type": "markdown",
   "id": "7ed2b470-09e4-4a6f-87ff-33d8b6936adc",
   "metadata": {},
   "source": [
    "This gives us two things: an image and an integer label."
   ]
  },
  {
   "cell_type": "code",
   "execution_count": 3,
   "id": "45d60429-ab19-40ae-af49-caa278051341",
   "metadata": {},
   "outputs": [
    {
     "data": {
      "image/jpeg": "[encoded data removed]",
      "image/png": "[encoded data removed]",
      "text/plain": [
       "<PIL.Image.Image image mode=L size=28x28>"
      ]
     },
     "execution_count": 3,
     "metadata": {},
     "output_type": "execute_result"
    }
   ],
   "source": [
    "img, label = mnist_ds[10]\n",
    "img"
   ]
  },
  {
   "cell_type": "markdown",
   "id": "7214a64b-f77d-416c-8cf1-c3fa8f5bb7cd",
   "metadata": {},
   "source": [
    "We can also ask the length of the dataset."
   ]
  },
  {
   "cell_type": "code",
   "execution_count": 4,
   "id": "1f051a95-db79-4728-8a2e-671a74b2eed8",
   "metadata": {},
   "outputs": [
    {
     "data": {
      "text/plain": [
       "60000"
      ]
     },
     "execution_count": 4,
     "metadata": {},
     "output_type": "execute_result"
    }
   ],
   "source": [
    "len(mnist_ds)"
   ]
  },
  {
   "cell_type": "markdown",
   "id": "7000f987-7875-4291-9a73-4c726df244e8",
   "metadata": {},
   "source": [
    "### 2.1.2 A first attempt to a custom dataset"
   ]
  },
  {
   "cell_type": "markdown",
   "id": "fc8cdd9b-7d3d-4bc6-8dc9-35a0f9f56080",
   "metadata": {},
   "source": [
    "To implement your own dataset, you need create a class that inherits from [`torch.utils.data.Dataset`](https://pytorch.org/docs/stable/data.html#torch.utils.data.Dataset) and implements two methods: `__getitem__()` and `__len__()`.\n",
    "\n",
    "For our Pokémon use case:\n",
    "\n",
    "- `__getitem__()` should return the image at the given index, along with the name of that Pokémon;\n",
    "- `__len__()` should return the number of images.\n",
    "\n",
    "In the previous notebook, we saw how we can represent our dataset as a Pandas `DataFrame`. We can use this representation to implement `__getitem__()` and `__len__()` without much new code:"
   ]
  },
  {
   "cell_type": "code",
   "execution_count": 5,
   "id": "d216f401-6c17-49ba-ba4c-39b995a4fa46",
   "metadata": {},
   "outputs": [],
   "source": [
    "import warnings\n",
    "\n",
    "# Ignore 'DataFrame.swapaxes' is deprecated warnings\n",
    "warnings.simplefilter(action='ignore', category=FutureWarning)\n",
    "\n",
    "import pandas as pd\n",
    "from pathlib import Path\n",
    "from torch.utils.data import Dataset\n",
    "from PIL import Image\n",
    "\n",
    "\n",
    "class PokemonDataset(Dataset):\n",
    "    def __init__(self, data_path, transform=None):\n",
    "        data_path = Path(data_path)\n",
    "        df = pd.DataFrame([\n",
    "            {\n",
    "                'image': str(img_path),\n",
    "                'label': img_path.parent.name\n",
    "            }\n",
    "            for img_path in data_path.glob('data/*/*')\n",
    "        ])\n",
    "\n",
    "        # Store attributes\n",
    "        self.data_path = data_path\n",
    "        self.transform = transform\n",
    "        self.df = df\n",
    "\n",
    "    def __len__(self):\n",
    "        return len(self.df)\n",
    "\n",
    "    def __getitem__(self, idx):\n",
    "        img_path = self.df['image'][idx]\n",
    "        label = self.df['label'][idx]\n",
    "\n",
    "        img = Image.open(img_path)\n",
    "\n",
    "        if self.transform is not None:\n",
    "            img = self.transform(img)\n",
    "\n",
    "        return (img, label)"
   ]
  },
  {
   "cell_type": "markdown",
   "id": "501a4255-0d7d-4639-aa12-683405adf26c",
   "metadata": {},
   "source": [
    "We can play around with this dataset, just like with the MNIST dataset."
   ]
  },
  {
   "cell_type": "code",
   "execution_count": 6,
   "id": "1d076d02-4f1a-4be0-8108-ff2f11a27a74",
   "metadata": {},
   "outputs": [
    {
     "data": {
      "text/plain": [
       "(<PIL.JpegImagePlugin.JpegImageFile image mode=RGB size=200x279>, 'Exeggcute')"
      ]
     },
     "execution_count": 6,
     "metadata": {},
     "output_type": "execute_result"
    }
   ],
   "source": [
    "ds = PokemonDataset('../data/PokemonGen1')\n",
    "ds[0]"
   ]
  },
  {
   "cell_type": "markdown",
   "id": "a31f8bba-88e7-4227-9871-611c88d3d4bc",
   "metadata": {},
   "source": [
    "While this is already a perfectly valid PyTorch `Dataset`, there are two issues:\n",
    "\n",
    "1. Our labels are strings;\n",
    "2. We don't make a distinction between train, validation and test data.\n",
    "\n",
    "> 🤔 **Why is it a problem that our labels are strings?**\n",
    ">\n",
    "> When training a network, we typically iterate over *batches* of data. These batches are represented as PyTorch tensors. And it is not possible (and not necessary, really) to create a tensor of strings.\n",
    "\n",
    "We'll solve both issues in the following sections.\n",
    "\n",
    "### 2.1.3 Replacing string labels with integer labels\n",
    "\n",
    "First, we'll replace our string labels by integer labels. For this, we'll create a dictionary that maps each string label to a unique integer."
   ]
  },
  {
   "cell_type": "code",
   "execution_count": 7,
   "id": "dc2e6dcd-2213-4819-85ff-0d2d33381d7c",
   "metadata": {},
   "outputs": [],
   "source": [
    "data_path = Path('../data/PokemonGen1')\n",
    "df = pd.DataFrame([\n",
    "    {\n",
    "        'image': str(img_path),\n",
    "        'label': img_path.parent.name\n",
    "    }\n",
    "    for img_path in data_path.glob('data/*/*')\n",
    "])"
   ]
  },
  {
   "cell_type": "markdown",
   "id": "28016453-d16e-421f-95dc-e683d16152db",
   "metadata": {},
   "source": [
    "To get a list of unique labels, we can call [`unique()`](https://pandas.pydata.org/docs/reference/api/pandas.Series.unique.html) on the `label` column:"
   ]
  },
  {
   "cell_type": "code",
   "execution_count": 8,
   "id": "fde56d57-3c95-497f-b6c6-3af4bca7f993",
   "metadata": {
    "scrolled": true
   },
   "outputs": [
    {
     "data": {
      "text/plain": [
       "array(['Exeggcute', 'Growlithe', 'Lickitung', 'Rhydon', 'Machop',\n",
       "       'Haunter', 'Pidgey', 'Weepinbell', 'Spearow', 'Vileplume',\n",
       "       'Venonat', 'Kabuto', 'Poliwrath', 'MrMime', 'Omanyte', 'Clefairy',\n",
       "       'Tangela', 'Aerodactyl', 'Parasect', 'Wartortle', 'Graveler',\n",
       "       'Dratini', 'Kingler', 'Kakuna', 'Gengar', 'Doduo', 'Dragonair',\n",
       "       'Porygon', 'Sandshrew', 'Weedle', 'Pidgeotto', 'Poliwag',\n",
       "       'Nidorino', 'Lapras', 'Nidorina', 'Charmander', 'Metapod', 'Eevee',\n",
       "       'Gyarados', 'Pikachu', 'Dugtrio', 'Meowth', 'Squirtle', 'Golduck',\n",
       "       'Muk', 'Grimer', 'Mankey', 'Onix', 'Tentacool', 'Machoke',\n",
       "       'Cubone', 'Butterfree', 'Ninetales', 'Ekans', 'Cloyster',\n",
       "       'Dragonite', 'Slowpoke', 'Raticate', 'Bulbasaur', 'Jigglypuff',\n",
       "       'Seadra', 'Pidgeot', 'Voltorb', 'Rapidash', 'Drowzee', 'Ponyta',\n",
       "       'Wigglytuff', 'Dewgong', 'Clefable', 'Electrode', 'Scyther',\n",
       "       'Articuno', 'Charizard', 'Dodrio', 'Magmar', 'Nidoking', 'Marowak',\n",
       "       'Psyduck', 'Starmie', 'Flareon', 'Alakazam', 'Machamp',\n",
       "       'Hitmonlee', 'Raichu', 'Primeape', 'Venusaur', 'Slowbro',\n",
       "       'Chansey', 'Charmeleon', 'Fearow', 'Zapdos', 'Horsea', 'Geodude',\n",
       "       'Victreebel', 'Magikarp', 'Seaking', 'Pinsir', 'Shellder',\n",
       "       'Krabby', 'Paras', 'Magnemite', 'Electabuzz', 'Blastoise',\n",
       "       'Mewtwo', 'Abra', 'Jynx', 'Omastar', 'Arcanine', 'Poliwhirl',\n",
       "       'Magneton', 'Rattata', 'Weezing', 'Vulpix', 'Tentacruel',\n",
       "       'Diglett', 'Rhyhorn', 'Venomoth', 'Ivysaur', 'Beedrill', 'Staryu',\n",
       "       'Arbok', 'Zubat', 'Bellsprout', 'Ditto', 'Kangaskhan', 'Golbat',\n",
       "       'Persian', 'Kabutops', 'Gloom', 'Seel', 'Gastly', 'Farfetchd',\n",
       "       'Kadabra', 'Snorlax', 'Sandslash', 'Hitmonchan', 'Jolteon', 'Mew',\n",
       "       'Caterpie', 'Moltres', 'Hypno', 'Vaporeon', 'Nidoqueen', 'Golem',\n",
       "       'Exeggutor', 'Tauros', 'Koffing', 'Goldeen', 'Oddish'],\n",
       "      dtype=object)"
      ]
     },
     "execution_count": 8,
     "metadata": {},
     "output_type": "execute_result"
    }
   ],
   "source": [
    "df['label'].unique()"
   ]
  },
  {
   "cell_type": "markdown",
   "id": "53f8294b-8e4d-4524-b150-cc97692fa7c5",
   "metadata": {},
   "source": [
    "To ensure a consistent mapping across different systems, we can sort these labels with [the built-in Python function `sorted()`](https://docs.python.org/3/library/functions.html#sorted):"
   ]
  },
  {
   "cell_type": "code",
   "execution_count": 9,
   "id": "80660a93-a955-459c-9221-435b19542d70",
   "metadata": {
    "scrolled": true
   },
   "outputs": [
    {
     "data": {
      "text/plain": [
       "['Abra',\n",
       " 'Aerodactyl',\n",
       " 'Alakazam',\n",
       " 'Arbok',\n",
       " 'Arcanine',\n",
       " 'Articuno',\n",
       " 'Beedrill',\n",
       " 'Bellsprout',\n",
       " 'Blastoise',\n",
       " 'Bulbasaur',\n",
       " 'Butterfree',\n",
       " 'Caterpie',\n",
       " 'Chansey',\n",
       " 'Charizard',\n",
       " 'Charmander',\n",
       " 'Charmeleon',\n",
       " 'Clefable',\n",
       " 'Clefairy',\n",
       " 'Cloyster',\n",
       " 'Cubone',\n",
       " 'Dewgong',\n",
       " 'Diglett',\n",
       " 'Ditto',\n",
       " 'Dodrio',\n",
       " 'Doduo',\n",
       " 'Dragonair',\n",
       " 'Dragonite',\n",
       " 'Dratini',\n",
       " 'Drowzee',\n",
       " 'Dugtrio',\n",
       " 'Eevee',\n",
       " 'Ekans',\n",
       " 'Electabuzz',\n",
       " 'Electrode',\n",
       " 'Exeggcute',\n",
       " 'Exeggutor',\n",
       " 'Farfetchd',\n",
       " 'Fearow',\n",
       " 'Flareon',\n",
       " 'Gastly',\n",
       " 'Gengar',\n",
       " 'Geodude',\n",
       " 'Gloom',\n",
       " 'Golbat',\n",
       " 'Goldeen',\n",
       " 'Golduck',\n",
       " 'Golem',\n",
       " 'Graveler',\n",
       " 'Grimer',\n",
       " 'Growlithe',\n",
       " 'Gyarados',\n",
       " 'Haunter',\n",
       " 'Hitmonchan',\n",
       " 'Hitmonlee',\n",
       " 'Horsea',\n",
       " 'Hypno',\n",
       " 'Ivysaur',\n",
       " 'Jigglypuff',\n",
       " 'Jolteon',\n",
       " 'Jynx',\n",
       " 'Kabuto',\n",
       " 'Kabutops',\n",
       " 'Kadabra',\n",
       " 'Kakuna',\n",
       " 'Kangaskhan',\n",
       " 'Kingler',\n",
       " 'Koffing',\n",
       " 'Krabby',\n",
       " 'Lapras',\n",
       " 'Lickitung',\n",
       " 'Machamp',\n",
       " 'Machoke',\n",
       " 'Machop',\n",
       " 'Magikarp',\n",
       " 'Magmar',\n",
       " 'Magnemite',\n",
       " 'Magneton',\n",
       " 'Mankey',\n",
       " 'Marowak',\n",
       " 'Meowth',\n",
       " 'Metapod',\n",
       " 'Mew',\n",
       " 'Mewtwo',\n",
       " 'Moltres',\n",
       " 'MrMime',\n",
       " 'Muk',\n",
       " 'Nidoking',\n",
       " 'Nidoqueen',\n",
       " 'Nidorina',\n",
       " 'Nidorino',\n",
       " 'Ninetales',\n",
       " 'Oddish',\n",
       " 'Omanyte',\n",
       " 'Omastar',\n",
       " 'Onix',\n",
       " 'Paras',\n",
       " 'Parasect',\n",
       " 'Persian',\n",
       " 'Pidgeot',\n",
       " 'Pidgeotto',\n",
       " 'Pidgey',\n",
       " 'Pikachu',\n",
       " 'Pinsir',\n",
       " 'Poliwag',\n",
       " 'Poliwhirl',\n",
       " 'Poliwrath',\n",
       " 'Ponyta',\n",
       " 'Porygon',\n",
       " 'Primeape',\n",
       " 'Psyduck',\n",
       " 'Raichu',\n",
       " 'Rapidash',\n",
       " 'Raticate',\n",
       " 'Rattata',\n",
       " 'Rhydon',\n",
       " 'Rhyhorn',\n",
       " 'Sandshrew',\n",
       " 'Sandslash',\n",
       " 'Scyther',\n",
       " 'Seadra',\n",
       " 'Seaking',\n",
       " 'Seel',\n",
       " 'Shellder',\n",
       " 'Slowbro',\n",
       " 'Slowpoke',\n",
       " 'Snorlax',\n",
       " 'Spearow',\n",
       " 'Squirtle',\n",
       " 'Starmie',\n",
       " 'Staryu',\n",
       " 'Tangela',\n",
       " 'Tauros',\n",
       " 'Tentacool',\n",
       " 'Tentacruel',\n",
       " 'Vaporeon',\n",
       " 'Venomoth',\n",
       " 'Venonat',\n",
       " 'Venusaur',\n",
       " 'Victreebel',\n",
       " 'Vileplume',\n",
       " 'Voltorb',\n",
       " 'Vulpix',\n",
       " 'Wartortle',\n",
       " 'Weedle',\n",
       " 'Weepinbell',\n",
       " 'Weezing',\n",
       " 'Wigglytuff',\n",
       " 'Zapdos',\n",
       " 'Zubat']"
      ]
     },
     "execution_count": 9,
     "metadata": {},
     "output_type": "execute_result"
    }
   ],
   "source": [
    "sorted(df['label'].unique())"
   ]
  },
  {
   "cell_type": "markdown",
   "id": "6f3739f9-16da-41ef-8bc2-2ace902a8e34",
   "metadata": {},
   "source": [
    "Now, with [the built-in Python function `enumerate()`](https://docs.python.org/3/library/functions.html#enumerate), we can get an iterable that yields another integer value for each of our labels."
   ]
  },
  {
   "cell_type": "code",
   "execution_count": 10,
   "id": "708d8878-6e36-49b2-8c8c-51fe01c0f3a1",
   "metadata": {
    "scrolled": true
   },
   "outputs": [
    {
     "name": "stdout",
     "output_type": "stream",
     "text": [
      "0 Abra\n",
      "1 Aerodactyl\n",
      "2 Alakazam\n",
      "3 Arbok\n",
      "4 Arcanine\n",
      "5 Articuno\n",
      "6 Beedrill\n",
      "7 Bellsprout\n",
      "8 Blastoise\n",
      "9 Bulbasaur\n",
      "10 Butterfree\n",
      "11 Caterpie\n",
      "12 Chansey\n",
      "13 Charizard\n",
      "14 Charmander\n",
      "15 Charmeleon\n",
      "16 Clefable\n",
      "17 Clefairy\n",
      "18 Cloyster\n",
      "19 Cubone\n",
      "20 Dewgong\n",
      "21 Diglett\n",
      "22 Ditto\n",
      "23 Dodrio\n",
      "24 Doduo\n",
      "25 Dragonair\n",
      "26 Dragonite\n",
      "27 Dratini\n",
      "28 Drowzee\n",
      "29 Dugtrio\n",
      "30 Eevee\n",
      "31 Ekans\n",
      "32 Electabuzz\n",
      "33 Electrode\n",
      "34 Exeggcute\n",
      "35 Exeggutor\n",
      "36 Farfetchd\n",
      "37 Fearow\n",
      "38 Flareon\n",
      "39 Gastly\n",
      "40 Gengar\n",
      "41 Geodude\n",
      "42 Gloom\n",
      "43 Golbat\n",
      "44 Goldeen\n",
      "45 Golduck\n",
      "46 Golem\n",
      "47 Graveler\n",
      "48 Grimer\n",
      "49 Growlithe\n",
      "50 Gyarados\n",
      "51 Haunter\n",
      "52 Hitmonchan\n",
      "53 Hitmonlee\n",
      "54 Horsea\n",
      "55 Hypno\n",
      "56 Ivysaur\n",
      "57 Jigglypuff\n",
      "58 Jolteon\n",
      "59 Jynx\n",
      "60 Kabuto\n",
      "61 Kabutops\n",
      "62 Kadabra\n",
      "63 Kakuna\n",
      "64 Kangaskhan\n",
      "65 Kingler\n",
      "66 Koffing\n",
      "67 Krabby\n",
      "68 Lapras\n",
      "69 Lickitung\n",
      "70 Machamp\n",
      "71 Machoke\n",
      "72 Machop\n",
      "73 Magikarp\n",
      "74 Magmar\n",
      "75 Magnemite\n",
      "76 Magneton\n",
      "77 Mankey\n",
      "78 Marowak\n",
      "79 Meowth\n",
      "80 Metapod\n",
      "81 Mew\n",
      "82 Mewtwo\n",
      "83 Moltres\n",
      "84 MrMime\n",
      "85 Muk\n",
      "86 Nidoking\n",
      "87 Nidoqueen\n",
      "88 Nidorina\n",
      "89 Nidorino\n",
      "90 Ninetales\n",
      "91 Oddish\n",
      "92 Omanyte\n",
      "93 Omastar\n",
      "94 Onix\n",
      "95 Paras\n",
      "96 Parasect\n",
      "97 Persian\n",
      "98 Pidgeot\n",
      "99 Pidgeotto\n",
      "100 Pidgey\n",
      "101 Pikachu\n",
      "102 Pinsir\n",
      "103 Poliwag\n",
      "104 Poliwhirl\n",
      "105 Poliwrath\n",
      "106 Ponyta\n",
      "107 Porygon\n",
      "108 Primeape\n",
      "109 Psyduck\n",
      "110 Raichu\n",
      "111 Rapidash\n",
      "112 Raticate\n",
      "113 Rattata\n",
      "114 Rhydon\n",
      "115 Rhyhorn\n",
      "116 Sandshrew\n",
      "117 Sandslash\n",
      "118 Scyther\n",
      "119 Seadra\n",
      "120 Seaking\n",
      "121 Seel\n",
      "122 Shellder\n",
      "123 Slowbro\n",
      "124 Slowpoke\n",
      "125 Snorlax\n",
      "126 Spearow\n",
      "127 Squirtle\n",
      "128 Starmie\n",
      "129 Staryu\n",
      "130 Tangela\n",
      "131 Tauros\n",
      "132 Tentacool\n",
      "133 Tentacruel\n",
      "134 Vaporeon\n",
      "135 Venomoth\n",
      "136 Venonat\n",
      "137 Venusaur\n",
      "138 Victreebel\n",
      "139 Vileplume\n",
      "140 Voltorb\n",
      "141 Vulpix\n",
      "142 Wartortle\n",
      "143 Weedle\n",
      "144 Weepinbell\n",
      "145 Weezing\n",
      "146 Wigglytuff\n",
      "147 Zapdos\n",
      "148 Zubat\n"
     ]
    }
   ],
   "source": [
    "for i, label in enumerate(sorted(df['label'].unique())):\n",
    "    print(i, label)"
   ]
  },
  {
   "cell_type": "markdown",
   "id": "3adb35df-3a02-49c0-817b-eede45a64a5f",
   "metadata": {},
   "source": [
    "So, we can create our label-to-integer dictionary with the following `for` loop:"
   ]
  },
  {
   "cell_type": "code",
   "execution_count": 11,
   "id": "aba3371c-e5ca-4866-adbd-9e66eab8b7d4",
   "metadata": {
    "scrolled": true
   },
   "outputs": [
    {
     "data": {
      "text/plain": [
       "{'Abra': 0,\n",
       " 'Aerodactyl': 1,\n",
       " 'Alakazam': 2,\n",
       " 'Arbok': 3,\n",
       " 'Arcanine': 4,\n",
       " 'Articuno': 5,\n",
       " 'Beedrill': 6,\n",
       " 'Bellsprout': 7,\n",
       " 'Blastoise': 8,\n",
       " 'Bulbasaur': 9,\n",
       " 'Butterfree': 10,\n",
       " 'Caterpie': 11,\n",
       " 'Chansey': 12,\n",
       " 'Charizard': 13,\n",
       " 'Charmander': 14,\n",
       " 'Charmeleon': 15,\n",
       " 'Clefable': 16,\n",
       " 'Clefairy': 17,\n",
       " 'Cloyster': 18,\n",
       " 'Cubone': 19,\n",
       " 'Dewgong': 20,\n",
       " 'Diglett': 21,\n",
       " 'Ditto': 22,\n",
       " 'Dodrio': 23,\n",
       " 'Doduo': 24,\n",
       " 'Dragonair': 25,\n",
       " 'Dragonite': 26,\n",
       " 'Dratini': 27,\n",
       " 'Drowzee': 28,\n",
       " 'Dugtrio': 29,\n",
       " 'Eevee': 30,\n",
       " 'Ekans': 31,\n",
       " 'Electabuzz': 32,\n",
       " 'Electrode': 33,\n",
       " 'Exeggcute': 34,\n",
       " 'Exeggutor': 35,\n",
       " 'Farfetchd': 36,\n",
       " 'Fearow': 37,\n",
       " 'Flareon': 38,\n",
       " 'Gastly': 39,\n",
       " 'Gengar': 40,\n",
       " 'Geodude': 41,\n",
       " 'Gloom': 42,\n",
       " 'Golbat': 43,\n",
       " 'Goldeen': 44,\n",
       " 'Golduck': 45,\n",
       " 'Golem': 46,\n",
       " 'Graveler': 47,\n",
       " 'Grimer': 48,\n",
       " 'Growlithe': 49,\n",
       " 'Gyarados': 50,\n",
       " 'Haunter': 51,\n",
       " 'Hitmonchan': 52,\n",
       " 'Hitmonlee': 53,\n",
       " 'Horsea': 54,\n",
       " 'Hypno': 55,\n",
       " 'Ivysaur': 56,\n",
       " 'Jigglypuff': 57,\n",
       " 'Jolteon': 58,\n",
       " 'Jynx': 59,\n",
       " 'Kabuto': 60,\n",
       " 'Kabutops': 61,\n",
       " 'Kadabra': 62,\n",
       " 'Kakuna': 63,\n",
       " 'Kangaskhan': 64,\n",
       " 'Kingler': 65,\n",
       " 'Koffing': 66,\n",
       " 'Krabby': 67,\n",
       " 'Lapras': 68,\n",
       " 'Lickitung': 69,\n",
       " 'Machamp': 70,\n",
       " 'Machoke': 71,\n",
       " 'Machop': 72,\n",
       " 'Magikarp': 73,\n",
       " 'Magmar': 74,\n",
       " 'Magnemite': 75,\n",
       " 'Magneton': 76,\n",
       " 'Mankey': 77,\n",
       " 'Marowak': 78,\n",
       " 'Meowth': 79,\n",
       " 'Metapod': 80,\n",
       " 'Mew': 81,\n",
       " 'Mewtwo': 82,\n",
       " 'Moltres': 83,\n",
       " 'MrMime': 84,\n",
       " 'Muk': 85,\n",
       " 'Nidoking': 86,\n",
       " 'Nidoqueen': 87,\n",
       " 'Nidorina': 88,\n",
       " 'Nidorino': 89,\n",
       " 'Ninetales': 90,\n",
       " 'Oddish': 91,\n",
       " 'Omanyte': 92,\n",
       " 'Omastar': 93,\n",
       " 'Onix': 94,\n",
       " 'Paras': 95,\n",
       " 'Parasect': 96,\n",
       " 'Persian': 97,\n",
       " 'Pidgeot': 98,\n",
       " 'Pidgeotto': 99,\n",
       " 'Pidgey': 100,\n",
       " 'Pikachu': 101,\n",
       " 'Pinsir': 102,\n",
       " 'Poliwag': 103,\n",
       " 'Poliwhirl': 104,\n",
       " 'Poliwrath': 105,\n",
       " 'Ponyta': 106,\n",
       " 'Porygon': 107,\n",
       " 'Primeape': 108,\n",
       " 'Psyduck': 109,\n",
       " 'Raichu': 110,\n",
       " 'Rapidash': 111,\n",
       " 'Raticate': 112,\n",
       " 'Rattata': 113,\n",
       " 'Rhydon': 114,\n",
       " 'Rhyhorn': 115,\n",
       " 'Sandshrew': 116,\n",
       " 'Sandslash': 117,\n",
       " 'Scyther': 118,\n",
       " 'Seadra': 119,\n",
       " 'Seaking': 120,\n",
       " 'Seel': 121,\n",
       " 'Shellder': 122,\n",
       " 'Slowbro': 123,\n",
       " 'Slowpoke': 124,\n",
       " 'Snorlax': 125,\n",
       " 'Spearow': 126,\n",
       " 'Squirtle': 127,\n",
       " 'Starmie': 128,\n",
       " 'Staryu': 129,\n",
       " 'Tangela': 130,\n",
       " 'Tauros': 131,\n",
       " 'Tentacool': 132,\n",
       " 'Tentacruel': 133,\n",
       " 'Vaporeon': 134,\n",
       " 'Venomoth': 135,\n",
       " 'Venonat': 136,\n",
       " 'Venusaur': 137,\n",
       " 'Victreebel': 138,\n",
       " 'Vileplume': 139,\n",
       " 'Voltorb': 140,\n",
       " 'Vulpix': 141,\n",
       " 'Wartortle': 142,\n",
       " 'Weedle': 143,\n",
       " 'Weepinbell': 144,\n",
       " 'Weezing': 145,\n",
       " 'Wigglytuff': 146,\n",
       " 'Zapdos': 147,\n",
       " 'Zubat': 148}"
      ]
     },
     "execution_count": 11,
     "metadata": {},
     "output_type": "execute_result"
    }
   ],
   "source": [
    "label_to_int = {}\n",
    "\n",
    "for i, label in enumerate(sorted(df['label'].unique())):\n",
    "    label_to_int[label] = i\n",
    "\n",
    "label_to_int"
   ]
  },
  {
   "cell_type": "markdown",
   "id": "b27170a9-ee1e-4029-8d37-5e1f80b0e59e",
   "metadata": {},
   "source": [
    "Or, we can use a [dictionary comprehension](https://www.geeksforgeeks.org/python-dictionary-comprehension/):"
   ]
  },
  {
   "cell_type": "code",
   "execution_count": 12,
   "id": "ba271583-162f-4393-bd02-e4063a035d24",
   "metadata": {
    "scrolled": true
   },
   "outputs": [
    {
     "data": {
      "text/plain": [
       "{'Abra': 0,\n",
       " 'Aerodactyl': 1,\n",
       " 'Alakazam': 2,\n",
       " 'Arbok': 3,\n",
       " 'Arcanine': 4,\n",
       " 'Articuno': 5,\n",
       " 'Beedrill': 6,\n",
       " 'Bellsprout': 7,\n",
       " 'Blastoise': 8,\n",
       " 'Bulbasaur': 9,\n",
       " 'Butterfree': 10,\n",
       " 'Caterpie': 11,\n",
       " 'Chansey': 12,\n",
       " 'Charizard': 13,\n",
       " 'Charmander': 14,\n",
       " 'Charmeleon': 15,\n",
       " 'Clefable': 16,\n",
       " 'Clefairy': 17,\n",
       " 'Cloyster': 18,\n",
       " 'Cubone': 19,\n",
       " 'Dewgong': 20,\n",
       " 'Diglett': 21,\n",
       " 'Ditto': 22,\n",
       " 'Dodrio': 23,\n",
       " 'Doduo': 24,\n",
       " 'Dragonair': 25,\n",
       " 'Dragonite': 26,\n",
       " 'Dratini': 27,\n",
       " 'Drowzee': 28,\n",
       " 'Dugtrio': 29,\n",
       " 'Eevee': 30,\n",
       " 'Ekans': 31,\n",
       " 'Electabuzz': 32,\n",
       " 'Electrode': 33,\n",
       " 'Exeggcute': 34,\n",
       " 'Exeggutor': 35,\n",
       " 'Farfetchd': 36,\n",
       " 'Fearow': 37,\n",
       " 'Flareon': 38,\n",
       " 'Gastly': 39,\n",
       " 'Gengar': 40,\n",
       " 'Geodude': 41,\n",
       " 'Gloom': 42,\n",
       " 'Golbat': 43,\n",
       " 'Goldeen': 44,\n",
       " 'Golduck': 45,\n",
       " 'Golem': 46,\n",
       " 'Graveler': 47,\n",
       " 'Grimer': 48,\n",
       " 'Growlithe': 49,\n",
       " 'Gyarados': 50,\n",
       " 'Haunter': 51,\n",
       " 'Hitmonchan': 52,\n",
       " 'Hitmonlee': 53,\n",
       " 'Horsea': 54,\n",
       " 'Hypno': 55,\n",
       " 'Ivysaur': 56,\n",
       " 'Jigglypuff': 57,\n",
       " 'Jolteon': 58,\n",
       " 'Jynx': 59,\n",
       " 'Kabuto': 60,\n",
       " 'Kabutops': 61,\n",
       " 'Kadabra': 62,\n",
       " 'Kakuna': 63,\n",
       " 'Kangaskhan': 64,\n",
       " 'Kingler': 65,\n",
       " 'Koffing': 66,\n",
       " 'Krabby': 67,\n",
       " 'Lapras': 68,\n",
       " 'Lickitung': 69,\n",
       " 'Machamp': 70,\n",
       " 'Machoke': 71,\n",
       " 'Machop': 72,\n",
       " 'Magikarp': 73,\n",
       " 'Magmar': 74,\n",
       " 'Magnemite': 75,\n",
       " 'Magneton': 76,\n",
       " 'Mankey': 77,\n",
       " 'Marowak': 78,\n",
       " 'Meowth': 79,\n",
       " 'Metapod': 80,\n",
       " 'Mew': 81,\n",
       " 'Mewtwo': 82,\n",
       " 'Moltres': 83,\n",
       " 'MrMime': 84,\n",
       " 'Muk': 85,\n",
       " 'Nidoking': 86,\n",
       " 'Nidoqueen': 87,\n",
       " 'Nidorina': 88,\n",
       " 'Nidorino': 89,\n",
       " 'Ninetales': 90,\n",
       " 'Oddish': 91,\n",
       " 'Omanyte': 92,\n",
       " 'Omastar': 93,\n",
       " 'Onix': 94,\n",
       " 'Paras': 95,\n",
       " 'Parasect': 96,\n",
       " 'Persian': 97,\n",
       " 'Pidgeot': 98,\n",
       " 'Pidgeotto': 99,\n",
       " 'Pidgey': 100,\n",
       " 'Pikachu': 101,\n",
       " 'Pinsir': 102,\n",
       " 'Poliwag': 103,\n",
       " 'Poliwhirl': 104,\n",
       " 'Poliwrath': 105,\n",
       " 'Ponyta': 106,\n",
       " 'Porygon': 107,\n",
       " 'Primeape': 108,\n",
       " 'Psyduck': 109,\n",
       " 'Raichu': 110,\n",
       " 'Rapidash': 111,\n",
       " 'Raticate': 112,\n",
       " 'Rattata': 113,\n",
       " 'Rhydon': 114,\n",
       " 'Rhyhorn': 115,\n",
       " 'Sandshrew': 116,\n",
       " 'Sandslash': 117,\n",
       " 'Scyther': 118,\n",
       " 'Seadra': 119,\n",
       " 'Seaking': 120,\n",
       " 'Seel': 121,\n",
       " 'Shellder': 122,\n",
       " 'Slowbro': 123,\n",
       " 'Slowpoke': 124,\n",
       " 'Snorlax': 125,\n",
       " 'Spearow': 126,\n",
       " 'Squirtle': 127,\n",
       " 'Starmie': 128,\n",
       " 'Staryu': 129,\n",
       " 'Tangela': 130,\n",
       " 'Tauros': 131,\n",
       " 'Tentacool': 132,\n",
       " 'Tentacruel': 133,\n",
       " 'Vaporeon': 134,\n",
       " 'Venomoth': 135,\n",
       " 'Venonat': 136,\n",
       " 'Venusaur': 137,\n",
       " 'Victreebel': 138,\n",
       " 'Vileplume': 139,\n",
       " 'Voltorb': 140,\n",
       " 'Vulpix': 141,\n",
       " 'Wartortle': 142,\n",
       " 'Weedle': 143,\n",
       " 'Weepinbell': 144,\n",
       " 'Weezing': 145,\n",
       " 'Wigglytuff': 146,\n",
       " 'Zapdos': 147,\n",
       " 'Zubat': 148}"
      ]
     },
     "execution_count": 12,
     "metadata": {},
     "output_type": "execute_result"
    }
   ],
   "source": [
    "label_to_int = {label: i for i, label in enumerate(sorted(df['label'].unique()))}\n",
    "label_to_int"
   ]
  },
  {
   "cell_type": "markdown",
   "id": "8cdb7c89-fd4a-438b-b95b-d529aa54adbf",
   "metadata": {},
   "source": [
    "We can plug this into our PokemonDataset:"
   ]
  },
  {
   "cell_type": "code",
   "execution_count": 13,
   "id": "704c42e3-c94d-4423-80d7-67fe3a7532a9",
   "metadata": {},
   "outputs": [],
   "source": [
    "class PokemonDataset(Dataset):\n",
    "    def __init__(self, data_path, transform=None):\n",
    "        data_path = Path(data_path)\n",
    "        df = pd.DataFrame([\n",
    "            {\n",
    "                'image': str(img_path),\n",
    "                'label': img_path.parent.name\n",
    "            }\n",
    "            for img_path in Path(data_path).glob('data/*/*')\n",
    "        ])\n",
    "\n",
    "        # Create mapping from label to integer\n",
    "        label_to_int = {\n",
    "            label: i\n",
    "            for i, label in enumerate(sorted(df['label'].unique()))\n",
    "        }\n",
    "\n",
    "        # Store attributes\n",
    "        self.data_path = data_path\n",
    "        self.label_to_int = label_to_int\n",
    "        self.transform = transform\n",
    "        self.df = df\n",
    "\n",
    "    def __len__(self):\n",
    "        return len(self.df)\n",
    "\n",
    "    def __getitem__(self, idx):\n",
    "        img_path = self.df['image'][idx]\n",
    "        label = self.df['label'][idx]\n",
    "        int_label = self.label_to_int[label]\n",
    "\n",
    "        img = Image.open(img_path)\n",
    "\n",
    "        if self.transform is not None:\n",
    "            img = self.transform(img)\n",
    "\n",
    "        return (img, int_label)"
   ]
  },
  {
   "cell_type": "markdown",
   "id": "8e9383a4-23a8-497a-aba6-9814b3e07ca7",
   "metadata": {},
   "source": [
    "Let's try out our new dataset."
   ]
  },
  {
   "cell_type": "code",
   "execution_count": 14,
   "id": "80867fbd-c0eb-42f1-b076-2fcc5e6cee9f",
   "metadata": {},
   "outputs": [
    {
     "data": {
      "text/plain": [
       "(<PIL.JpegImagePlugin.JpegImageFile image mode=RGB size=200x279>, 34)"
      ]
     },
     "execution_count": 14,
     "metadata": {},
     "output_type": "execute_result"
    }
   ],
   "source": [
    "ds = PokemonDataset('../data/PokemonGen1/')\n",
    "ds[0]"
   ]
  },
  {
   "attachments": {},
   "cell_type": "markdown",
   "id": "98bad5cc-d9b1-4654-8a0d-e28d8c1d40e0",
   "metadata": {},
   "source": [
    "### 2.1.4 Splitting the data into a train, validation and test split\n",
    "\n",
    "Training a neural network and testing it on the same data is a methodological mistake: a model that would just repeat the labels of the samples that it has just seen would achieve a perfect score but would fail to predict anything useful on data that was not used during training. This situation is called **overfitting**. To get a better sense of model performance on *unseen* data, it is customary to randomly split the dataset into three disjoint subsets.\n",
    "\n",
    "1. **Training set**: You train the model with the training set.\n",
    "2. **Validation set**: Every X training iterations, you evaluate the model performance on the validation set. It is common to only keep the model that obtained the best validation score during training. When training multiple models with different configurations (or *hyperparameters*), you should use the evaluation on the validation set to decide which model to keep.\n",
    "3. **Test set**: *Once you have decided a model based on validation perfomance*, you evaluate on the test set to get an estimate of the model's ability to generalize to unseen data. In many machine learning competitions, to avoid cheating, the test set is either unlabeled or unavailable to the participants.\n",
    "\n",
    "As you see, the validation set is used to compare different model configurations, or *hyperparameters*. This could simply be the number of iterations used to train the model, but this also includes the choice of data augmentations, optimizer, learning rate, model architecture (number of layers, number of neurons in a layer, kind of layer,...) etc.\n",
    "\n",
    "To split our dataset into these subsets, we can use [`sklearn.model_selection.train_test_split()`](https://scikit-learn.org/stable/modules/generated/sklearn.model_selection.train_test_split.html#sklearn.model_selection.train_test_split)."
   ]
  },
  {
   "cell_type": "code",
   "execution_count": 15,
   "id": "68764b71-5999-4d8a-b083-f37cb7c485b1",
   "metadata": {},
   "outputs": [],
   "source": [
    "from sklearn.model_selection import train_test_split\n",
    "\n",
    "df_trainval, df_test = train_test_split(df, train_size=0.8, random_state=42)\n",
    "\n",
    "df_train, df_val = train_test_split(df_trainval, train_size=0.8, random_state=42)"
   ]
  },
  {
   "cell_type": "markdown",
   "id": "d65161a8-5a34-4060-9b25-d137db5e7f65",
   "metadata": {},
   "source": [
    "We can update our `PokemonDataset` so that, depending on a given constructor argument, the correct subset is used."
   ]
  },
  {
   "cell_type": "code",
   "execution_count": 16,
   "id": "023a3f16-f244-46a8-a0cf-b6e433eb4adc",
   "metadata": {},
   "outputs": [],
   "source": [
    "class PokemonDataset(Dataset):\n",
    "    def __init__(self, data_path, subset, transform=None):\n",
    "        data_path = Path(data_path)\n",
    "        df = pd.DataFrame([\n",
    "            {\n",
    "                'image': str(img_path),\n",
    "                'label': img_path.parent.name\n",
    "            }\n",
    "            for img_path in data_path.glob('data/*/*')\n",
    "        ])\n",
    "\n",
    "        # Create mapping from label to integer\n",
    "        label_to_int = {\n",
    "            label: i\n",
    "            for i, label in enumerate(sorted(df['label'].unique()))\n",
    "        }\n",
    "\n",
    "        # Split into train, test, val\n",
    "        df_trainval, df_test = train_test_split(df, train_size=0.8, random_state=42)\n",
    "        df_train, df_val = train_test_split(df_trainval, train_size=0.8, random_state=42)\n",
    "\n",
    "        # Store attributes\n",
    "        self.data_path = data_path\n",
    "        self.label_to_int = label_to_int\n",
    "        self.transform = transform\n",
    "        self.subset = subset\n",
    "\n",
    "        if subset == 'train':\n",
    "            self.df = df_train.reset_index()\n",
    "        elif subset == 'val':\n",
    "            self.df = df_val.reset_index()\n",
    "        elif subset == 'test':\n",
    "            self.df = df_test.reset_index()\n",
    "        else:\n",
    "            raise ValueError(f'Unknown subset \"{subset}\"')\n",
    "\n",
    "    def __len__(self):\n",
    "        return len(self.df)\n",
    "\n",
    "    def __getitem__(self, idx):\n",
    "        img_path = self.df['image'][idx]\n",
    "        label = self.df['label'][idx]\n",
    "        int_label = self.label_to_int[label]\n",
    "\n",
    "        img = Image.open(img_path)\n",
    "\n",
    "        if self.transform is not None:\n",
    "            img = self.transform(img)\n",
    "\n",
    "        return (img, int_label)"
   ]
  },
  {
   "cell_type": "markdown",
   "id": "16c44e40-ed2e-44d5-9cd0-59d363450952",
   "metadata": {},
   "source": [
    "Let's try it out..."
   ]
  },
  {
   "cell_type": "code",
   "execution_count": 17,
   "id": "89fc150f-ffe1-41ab-967c-d1e583eaea81",
   "metadata": {},
   "outputs": [
    {
     "data": {
      "text/plain": [
       "(<PIL.JpegImagePlugin.JpegImageFile image mode=RGB size=453x398>, 77)"
      ]
     },
     "execution_count": 17,
     "metadata": {},
     "output_type": "execute_result"
    }
   ],
   "source": [
    "ds_train = PokemonDataset(data_path='../data/PokemonGen1', subset='train')\n",
    "ds_train[0]"
   ]
  },
  {
   "cell_type": "markdown",
   "id": "e138eebc-b542-40eb-9487-86c59d557496",
   "metadata": {},
   "source": [
    "### 2.1.5 Cross-validation\n",
    "\n",
    "Choosing the model that achieved the best performance on the validation set (instead of the training set) avoids selecting a model that has overfit. However, when comparing many models based on validation score, we might select a model that only worked best for the particular random choice of training and validation data. To make a better-informed decision, we can use **cross-validation** techniques.\n",
    "\n",
    "A basic cross-validation technique is **$k$-fold cross-validation**. Here, the data set is first split up into only two subsets: a *training* set and a *test* set. The training set is partitioned into **$k$ equally-sized folds**. When training a model, we choose one fold for *validation* and the other $k - 1$ folds for *training*. By training a certain model configuration with all $k$ different choices for training and validation and averaging the validation scores, we can effectively select the best model configuration in a more reliable and robust manner. The figure below illustrates the process of $k$-fold cross-validation ([source](https://scikit-learn.org/stable/modules/cross_validation.html)).\n",
    "\n",
    "<img src=\"https://scikit-learn.org/stable/_images/grid_search_cross_validation.png\" style=\"max-width: 500px; margin: auto; padding: 2em;\"/>\n",
    "\n",
    "To add support for $k$-fold cross validation to our `PokemonDataset`, we'll first use `train_test_split()` to split our dataset into train+val and test set. Then, with [`numpy.array_split()`](https://numpy.org/doc/stable/reference/generated/numpy.array_split.html), we can split the train+val set into $k$ folds."
   ]
  },
  {
   "cell_type": "code",
   "execution_count": 18,
   "id": "1e7c5f90-ddbb-402e-97e8-c4bd7110b07c",
   "metadata": {},
   "outputs": [
    {
     "name": "stderr",
     "output_type": "stream",
     "text": [
      "/home/fdf/projects/labo_bld_interp/.venv/lib/python3.11/site-packages/numpy/core/fromnumeric.py:59: FutureWarning: 'DataFrame.swapaxes' is deprecated and will be removed in a future version. Please use 'DataFrame.transpose' instead.\n",
      "  return bound(*args, **kwds)\n"
     ]
    }
   ],
   "source": [
    "import numpy as np\n",
    "\n",
    "# Define k (the number of folds)\n",
    "k = 5\n",
    "\n",
    "# Split dataset into train+val and test\n",
    "df_trainval, df_test = train_test_split(df, train_size=0.8, random_state=42)\n",
    "\n",
    "# Split the train+val into k folds\n",
    "folds = np.array_split(df_trainval, k)"
   ]
  },
  {
   "cell_type": "markdown",
   "id": "9bfb64f9-be7e-4001-930a-3317a6e35658",
   "metadata": {},
   "source": [
    "Now, we can choose which fold to use for validation. The other folds should be concatenated to create the training set."
   ]
  },
  {
   "cell_type": "code",
   "execution_count": 19,
   "id": "44ca9e13-2141-415e-a8dc-01887dd24785",
   "metadata": {},
   "outputs": [],
   "source": [
    "val_fold = 0\n",
    "\n",
    "df_val = folds[val_fold]\n",
    "train_folds = [fold for i, fold in enumerate(folds)\n",
    "               if i != val_fold]\n",
    "df_train = pd.concat(train_folds)"
   ]
  },
  {
   "cell_type": "markdown",
   "id": "cb21c21e-ec62-4d78-9870-657b83fa0109",
   "metadata": {},
   "source": [
    "Plugging this into our `PokemonDataset`:"
   ]
  },
  {
   "cell_type": "code",
   "execution_count": 20,
   "id": "d2f3d928-ed42-452a-b02a-827ddb9445fd",
   "metadata": {},
   "outputs": [],
   "source": [
    "class PokemonDataset(Dataset):\n",
    "    def __init__(self, data_path, subset, k=5, val_fold=0, transform=None):\n",
    "        data_path = Path(data_path)\n",
    "        df = pd.DataFrame([\n",
    "            {\n",
    "                'image': str(img_path),\n",
    "                'label': img_path.parent.name\n",
    "            }\n",
    "            for img_path in data_path.glob('data/*/*')\n",
    "        ])\n",
    "\n",
    "        # Create mapping from label to integer\n",
    "        label_to_int = {\n",
    "            label: i\n",
    "            for i, label in enumerate(sorted(df['label'].unique()))\n",
    "        }\n",
    "\n",
    "        # Split into train, test, val\n",
    "        df_trainval, df_test = train_test_split(df, train_size=0.8, random_state=42)\n",
    "        folds = np.array_split(df_trainval, k)\n",
    "        df_val = folds[val_fold]\n",
    "        train_folds = [fold for i, fold in enumerate(folds)\n",
    "                       if i != val_fold]\n",
    "        df_train = pd.concat(train_folds)\n",
    "\n",
    "        # Store attributes\n",
    "        self.data_path = data_path\n",
    "        self.label_to_int = label_to_int\n",
    "        self.transform = transform\n",
    "\n",
    "        if subset == 'train':\n",
    "            self.df = df_train.reset_index()\n",
    "        elif subset == 'val':\n",
    "            self.df = df_val.reset_index()\n",
    "        elif subset == 'test':\n",
    "            self.df = df_test.reset_index()\n",
    "        else:\n",
    "            raise ValueError(f'Unknown subset \"{subset}\"')\n",
    "\n",
    "    def __len__(self):\n",
    "        return len(self.df)\n",
    "\n",
    "    def __getitem__(self, idx):\n",
    "        img_path = self.df['image'][idx]\n",
    "        label = self.df['label'][idx]\n",
    "        int_label = self.label_to_int[label]\n",
    "\n",
    "        img = Image.open(img_path)\n",
    "\n",
    "        if self.transform is not None:\n",
    "            img = self.transform(img)\n",
    "\n",
    "        return (img, int_label)"
   ]
  },
  {
   "cell_type": "markdown",
   "id": "7bb27d3b-93a7-45ad-a651-25c9d21b13b6",
   "metadata": {},
   "source": [
    "Now we can create a training set, validation set and test set:"
   ]
  },
  {
   "cell_type": "code",
   "execution_count": 21,
   "id": "333df9a0-1b73-4ece-a620-5c252714fe65",
   "metadata": {},
   "outputs": [
    {
     "name": "stderr",
     "output_type": "stream",
     "text": [
      "/home/fdf/projects/labo_bld_interp/.venv/lib/python3.11/site-packages/numpy/core/fromnumeric.py:59: FutureWarning: 'DataFrame.swapaxes' is deprecated and will be removed in a future version. Please use 'DataFrame.transpose' instead.\n",
      "  return bound(*args, **kwds)\n",
      "/home/fdf/projects/labo_bld_interp/.venv/lib/python3.11/site-packages/numpy/core/fromnumeric.py:59: FutureWarning: 'DataFrame.swapaxes' is deprecated and will be removed in a future version. Please use 'DataFrame.transpose' instead.\n",
      "  return bound(*args, **kwds)\n"
     ]
    }
   ],
   "source": [
    "import torch\n",
    "from torchvision.transforms import v2\n",
    "\n",
    "# Create transforms\n",
    "train_tfms = v2.Compose([\n",
    "    v2.ToImage(),\n",
    "    v2.RandomHorizontalFlip(),\n",
    "    v2.RandomRotation(30),\n",
    "    v2.RandomResizedCrop(224, antialias=True),\n",
    "    v2.ToDtype(torch.float32, scale=True),\n",
    "    v2.Normalize(mean=[0.485, 0.456, 0.406], std=[0.229, 0.224, 0.225]),\n",
    "])\n",
    "val_tfms = v2.Compose([\n",
    "    v2.ToImage(),\n",
    "    v2.Resize(224, antialias=True),\n",
    "    v2.CenterCrop(224),\n",
    "    v2.ToDtype(torch.float32, scale=True),\n",
    "    v2.Normalize(mean=[0.485, 0.456, 0.406], std=[0.229, 0.224, 0.225]),\n",
    "])\n",
    "\n",
    "# Create datasets\n",
    "ds_train = PokemonDataset('../data/PokemonGen1', 'train', transform=train_tfms)\n",
    "ds_val = PokemonDataset('../data/PokemonGen1', 'val', transform=val_tfms)\n",
    "ds_test = PokemonDataset('../data/PokemonGen1', 'test', transform=val_tfms)"
   ]
  },
  {
   "cell_type": "markdown",
   "id": "e9cb8f52-a3ae-4ad0-aeda-31906cc7502a",
   "metadata": {},
   "source": [
    "> ⚠️ **Don't use random transforms for validation or test set!**\n",
    ">\n",
    "> To avoid making the validation and test evaluations irreproducible, you should not use randomness in the transforms that you'll use for the validation and test set.\n",
    "\n",
    "Hooray! 🙌 We now have a full-fledged PyTorch `Dataset` with support for $k$-fold cross-validation! 🎉"
   ]
  },
  {
   "cell_type": "markdown",
   "id": "354dc290-0d9a-4d1d-b427-926424a92131",
   "metadata": {},
   "source": [
    "## 2.2 PyTorch data loader\n",
    "\n",
    "A PyTorch `Dataset` allows us to easily get images (and labels) from our dataset. When training a neural network, however, we can save training time by training with **batches** of data, instead of passing the images through the network one-by-one.\n",
    "\n",
    "Batching your data is the task of the [PyTorch `DataLoader`](https://pytorch.org/docs/stable/data.html#torch.utils.data.DataLoader). Given a PyTorch `Dataset` that returns a tuple with an image tensor and an integer label, it is very simple to create a `DataLoader`:"
   ]
  },
  {
   "cell_type": "code",
   "execution_count": 22,
   "id": "33459067-70bd-45e0-a3a5-c393ae9f0993",
   "metadata": {},
   "outputs": [],
   "source": [
    "from torch.utils.data import DataLoader\n",
    "\n",
    "# Create trainin data loader\n",
    "dl_train = DataLoader(ds_train, batch_size=10)"
   ]
  },
  {
   "cell_type": "markdown",
   "id": "41c43cee-01c4-4c0a-89c3-0ad923165ed6",
   "metadata": {},
   "source": [
    "A `DataLoader` is an iterable, where each iteration item is a batch of data samples. As with any iterable in Python, you can iterate over a `DataLoader` using a `for` loop. Let's inspect what's inside an iteration item."
   ]
  },
  {
   "cell_type": "code",
   "execution_count": 23,
   "id": "a45a4fd8-8a2d-47ad-bed7-a83742ec1633",
   "metadata": {
    "scrolled": true
   },
   "outputs": [
    {
     "data": {
      "text/plain": [
       "[tensor([[[[ 2.2489,  2.2489,  2.2489,  ...,  2.2489,  2.2489,  2.2489],\n",
       "           [ 2.2489,  2.2489,  2.2489,  ...,  2.2489,  2.2489,  2.2489],\n",
       "           [ 2.2489,  2.2489,  2.2489,  ...,  2.2489,  2.2489,  2.2489],\n",
       "           ...,\n",
       "           [ 2.2489,  2.2489,  2.2489,  ...,  0.5536,  0.5364,  0.5364],\n",
       "           [ 2.2489,  2.2489,  2.2489,  ...,  0.5536,  0.5536,  0.5536],\n",
       "           [ 2.2489,  2.2489,  2.2489,  ...,  0.5536,  0.5536,  0.5536]],\n",
       " \n",
       "          [[ 2.4286,  2.4286,  2.4286,  ...,  2.4286,  2.4286,  2.4286],\n",
       "           [ 2.4286,  2.4286,  2.4286,  ...,  2.4286,  2.4286,  2.4286],\n",
       "           [ 2.4286,  2.4286,  2.4286,  ...,  2.4286,  2.4286,  2.4286],\n",
       "           ...,\n",
       "           [ 2.4286,  2.4286,  2.4286,  ...,  0.7654,  0.7304,  0.7304],\n",
       "           [ 2.4286,  2.4286,  2.4286,  ...,  0.7654,  0.7479,  0.7479],\n",
       "           [ 2.4286,  2.4286,  2.4286,  ...,  0.7829,  0.7654,  0.7479]],\n",
       " \n",
       "          [[ 2.6400,  2.6400,  2.6400,  ...,  2.6400,  2.6400,  2.6400],\n",
       "           [ 2.6400,  2.6400,  2.6400,  ...,  2.6400,  2.6400,  2.6400],\n",
       "           [ 2.6400,  2.6400,  2.6400,  ...,  2.6400,  2.6400,  2.6400],\n",
       "           ...,\n",
       "           [ 2.6400,  2.6400,  2.6400,  ...,  1.0714,  1.0365,  1.0191],\n",
       "           [ 2.6400,  2.6400,  2.6400,  ...,  1.0714,  1.0539,  1.0539],\n",
       "           [ 2.6400,  2.6400,  2.6400,  ...,  1.0714,  1.0539,  1.0539]]],\n",
       " \n",
       " \n",
       "         [[[-2.1179, -2.1179, -2.1179,  ...,  2.2489,  2.2489,  2.2489],\n",
       "           [-2.1179, -2.1179, -2.1179,  ...,  2.2489,  2.2318,  2.2318],\n",
       "           [-2.1179, -2.1179, -2.1179,  ...,  2.2489,  2.2318,  2.2318],\n",
       "           ...,\n",
       "           [ 2.2489,  2.2489,  2.2489,  ...,  1.5639,  1.5982,  1.8893],\n",
       "           [ 2.2489,  2.2489,  2.2489,  ...,  1.5639,  1.6838,  2.0777],\n",
       "           [ 2.2489,  2.2489,  2.2489,  ...,  1.5297,  1.7694,  2.1290]],\n",
       " \n",
       "          [[-2.0357, -2.0357, -2.0357,  ..., -0.7577, -0.7577, -0.7577],\n",
       "           [-2.0357, -2.0357, -2.0357,  ..., -0.7577, -0.7752, -0.7752],\n",
       "           [-2.0357, -2.0357, -2.0357,  ..., -0.7577, -0.7752, -0.7752],\n",
       "           ...,\n",
       "           [-0.0749, -0.0749, -0.0749,  ..., -1.7381, -1.7206, -0.5126],\n",
       "           [-0.0749, -0.0749, -0.0749,  ..., -1.7556, -1.4580, -0.2150],\n",
       "           [-0.0749, -0.0749, -0.0749,  ..., -1.7731, -1.2829, -0.1450]],\n",
       " \n",
       "          [[-1.8044, -1.8044, -1.8044,  ..., -1.8044, -1.8044, -1.8044],\n",
       "           [-1.8044, -1.8044, -1.8044,  ..., -1.8044, -1.8044, -1.8044],\n",
       "           [-1.8044, -1.8044, -1.8044,  ..., -1.8044, -1.8044, -1.8044],\n",
       "           ...,\n",
       "           [ 0.7576,  0.7576,  0.7576,  ..., -1.7522, -1.7173, -1.2990],\n",
       "           [ 0.7576,  0.7576,  0.7576,  ..., -1.7173, -1.5430, -0.5670],\n",
       "           [ 0.7576,  0.7576,  0.7576,  ..., -1.7347, -1.1596,  0.4091]]],\n",
       " \n",
       " \n",
       "         [[[-2.1179, -2.1179, -2.1179,  ...,  0.5536,  0.5364,  0.5536],\n",
       "           [-2.1179, -2.1179, -2.1179,  ...,  0.5364,  0.5707,  0.5707],\n",
       "           [-2.1179, -2.1179, -2.1179,  ...,  0.5193,  0.5364,  0.5878],\n",
       "           ...,\n",
       "           [-2.1179, -2.1179, -2.1179,  ...,  1.2728,  1.2899,  1.2728],\n",
       "           [-2.1179, -2.1179, -2.1179,  ...,  1.2899,  1.2728,  1.2728],\n",
       "           [-2.1179, -2.1179, -2.1179,  ...,  1.2728,  1.2728,  1.2728]],\n",
       " \n",
       "          [[-2.0357, -2.0357, -2.0357,  ...,  0.3627,  0.3803,  0.3978],\n",
       "           [-2.0357, -2.0357, -2.0357,  ...,  0.3627,  0.3803,  0.3803],\n",
       "           [-2.0357, -2.0357, -2.0182,  ...,  0.3102,  0.3627,  0.4153],\n",
       "           ...,\n",
       "           [-2.0357, -2.0357, -2.0357,  ...,  0.3102,  0.3102,  0.3102],\n",
       "           [-2.0357, -2.0357, -2.0357,  ...,  0.3277,  0.3102,  0.3102],\n",
       "           [-2.0357, -2.0357, -2.0357,  ...,  0.3102,  0.3102,  0.3102]],\n",
       " \n",
       "          [[-1.8044, -1.8044, -1.8044,  ...,  1.1411,  1.0888,  1.0888],\n",
       "           [-1.8044, -1.8044, -1.8044,  ...,  1.1585,  1.1237,  1.1062],\n",
       "           [-1.8044, -1.8044, -1.8044,  ...,  1.1411,  1.1062,  1.1411],\n",
       "           ...,\n",
       "           [-1.8044, -1.8044, -1.8044,  ..., -1.7870, -1.7522, -1.7347],\n",
       "           [-1.8044, -1.8044, -1.8044,  ..., -1.7870, -1.7870, -1.7870],\n",
       "           [-1.8044, -1.8044, -1.8044,  ..., -1.8044, -1.8044, -1.8044]]],\n",
       " \n",
       " \n",
       "         ...,\n",
       " \n",
       " \n",
       "         [[[-2.1179, -2.1179, -2.1179,  ..., -0.4397, -0.3712, -0.1486],\n",
       "           [-2.1179, -2.1179, -2.1179,  ..., -0.3027, -0.3883, -0.1314],\n",
       "           [-2.1179, -2.1179, -2.1179,  ..., -0.1143, -0.4226, -0.1486],\n",
       "           ...,\n",
       "           [ 1.8208,  1.6667,  0.8618,  ..., -2.1179, -2.1179, -2.1179],\n",
       "           [ 1.8208,  1.5982,  0.8104,  ..., -2.1179, -2.1179, -2.1179],\n",
       "           [ 1.8208,  1.5982,  0.7933,  ..., -2.1179, -2.1179, -2.1179]],\n",
       " \n",
       "          [[-2.0357, -2.0357, -2.0357,  ..., -0.7227, -0.7402, -0.6527],\n",
       "           [-2.0357, -2.0357, -2.0357,  ..., -0.6176, -0.7752, -0.6352],\n",
       "           [-2.0357, -2.0357, -2.0357,  ..., -0.4776, -0.7927, -0.6176],\n",
       "           ...,\n",
       "           [ 2.1835,  2.0259,  1.1856,  ..., -2.0357, -2.0357, -2.0357],\n",
       "           [ 2.1835,  1.9734,  1.1331,  ..., -2.0357, -2.0357, -2.0357],\n",
       "           [ 2.1835,  1.9559,  1.1155,  ..., -2.0357, -2.0357, -2.0357]],\n",
       " \n",
       "          [[-1.8044, -1.8044, -1.8044,  ..., -0.8633, -0.8110, -0.7064],\n",
       "           [-1.8044, -1.8044, -1.8044,  ..., -0.7413, -0.8284, -0.6715],\n",
       "           [-1.8044, -1.8044, -1.8044,  ..., -0.6018, -0.8458, -0.6715],\n",
       "           ...,\n",
       "           [ 2.0997,  2.0300,  1.4374,  ..., -1.8044, -1.8044, -1.8044],\n",
       "           [ 2.0997,  1.9428,  1.3677,  ..., -1.8044, -1.8044, -1.8044],\n",
       "           [ 2.0997,  1.9603,  1.4025,  ..., -1.8044, -1.8044, -1.8044]]],\n",
       " \n",
       " \n",
       "         [[[ 2.2489,  2.2489,  2.2489,  ...,  2.1633,  1.8208,  0.9817],\n",
       "           [ 2.2489,  2.2489,  2.2489,  ...,  2.1633,  2.1290,  1.1529],\n",
       "           [ 2.2489,  2.2489,  2.2489,  ...,  2.1804,  2.1633,  1.9407],\n",
       "           ...,\n",
       "           [-2.1179, -2.1179, -2.1179,  ...,  2.2489,  2.2489,  2.2489],\n",
       "           [-2.1179, -2.1179, -2.1179,  ...,  2.2489,  2.2489,  2.2489],\n",
       "           [-2.1179, -2.1179, -2.1179,  ...,  2.2489,  2.2489,  2.2489]],\n",
       " \n",
       "          [[ 2.4286,  2.4286,  2.4286,  ...,  2.1835,  1.7283,  0.8704],\n",
       "           [ 2.4286,  2.4286,  2.4286,  ...,  2.2010,  2.0959,  0.9930],\n",
       "           [ 2.4286,  2.4286,  2.4286,  ...,  2.1835,  2.1835,  1.8508],\n",
       "           ...,\n",
       "           [-2.0357, -2.0357, -2.0357,  ...,  2.4286,  2.4286,  2.4286],\n",
       "           [-2.0357, -2.0357, -2.0357,  ...,  2.4286,  2.4286,  2.4286],\n",
       "           [-2.0357, -2.0357, -2.0357,  ...,  2.4286,  2.4286,  2.4286]],\n",
       " \n",
       "          [[ 2.6400,  2.6400,  2.6400,  ...,  2.0300,  1.5942,  0.2696],\n",
       "           [ 2.6400,  2.6400,  2.6400,  ...,  2.0300,  1.9951,  0.5311],\n",
       "           [ 2.6400,  2.6400,  2.6400,  ...,  2.0300,  2.0300,  1.5245],\n",
       "           ...,\n",
       "           [-1.8044, -1.8044, -1.8044,  ...,  2.6400,  2.6400,  2.6400],\n",
       "           [-1.8044, -1.8044, -1.8044,  ...,  2.6400,  2.6400,  2.6400],\n",
       "           [-1.8044, -1.8044, -1.8044,  ...,  2.6400,  2.6400,  2.6400]]],\n",
       " \n",
       " \n",
       "         [[[-2.1179, -2.1179, -2.1179,  ..., -2.1179, -2.1179, -2.1179],\n",
       "           [-2.1179, -2.1179, -2.1179,  ..., -2.1179, -2.1179, -2.1179],\n",
       "           [-2.1179, -2.1179, -2.1179,  ..., -2.1179, -2.1179, -2.1179],\n",
       "           ...,\n",
       "           [-2.1179, -2.1179, -2.1179,  ..., -2.1179, -2.1179, -2.1179],\n",
       "           [-2.1179, -2.1179, -2.1179,  ..., -2.1179, -2.1179, -2.1179],\n",
       "           [-2.1179, -2.1179, -2.1179,  ..., -2.1179, -2.1179, -2.1179]],\n",
       " \n",
       "          [[-2.0357, -2.0357, -2.0357,  ..., -2.0357, -2.0357, -2.0357],\n",
       "           [-2.0357, -2.0357, -2.0357,  ..., -2.0357, -2.0357, -2.0357],\n",
       "           [-2.0357, -2.0357, -2.0357,  ..., -2.0357, -2.0357, -2.0357],\n",
       "           ...,\n",
       "           [-2.0357, -2.0357, -2.0357,  ..., -2.0357, -2.0357, -2.0357],\n",
       "           [-2.0357, -2.0357, -2.0357,  ..., -2.0357, -2.0357, -2.0357],\n",
       "           [-2.0357, -2.0357, -2.0357,  ..., -2.0357, -2.0357, -2.0357]],\n",
       " \n",
       "          [[-1.8044, -1.8044, -1.8044,  ..., -1.8044, -1.8044, -1.8044],\n",
       "           [-1.8044, -1.8044, -1.8044,  ..., -1.8044, -1.8044, -1.8044],\n",
       "           [-1.8044, -1.8044, -1.8044,  ..., -1.8044, -1.8044, -1.8044],\n",
       "           ...,\n",
       "           [-1.8044, -1.8044, -1.8044,  ..., -1.8044, -1.8044, -1.8044],\n",
       "           [-1.8044, -1.8044, -1.8044,  ..., -1.8044, -1.8044, -1.8044],\n",
       "           [-1.8044, -1.8044, -1.8044,  ..., -1.8044, -1.8044, -1.8044]]]]),\n",
       " tensor([ 29, 106,  58,  91, 100,  17,  76, 114,  12, 113])]"
      ]
     },
     "execution_count": 23,
     "metadata": {},
     "output_type": "execute_result"
    }
   ],
   "source": [
    "for x in dl_train:\n",
    "    break\n",
    "\n",
    "x"
   ]
  },
  {
   "cell_type": "markdown",
   "id": "a5e6e06e-ffb3-4b12-b79b-16137453115a",
   "metadata": {},
   "source": [
    "Our `DataLoader` composes the first batch with the samples at index $0,\\ldots, 9$, the second batch $10,\\ldots,19$ and so on. To compose the batches with random samples, you can pass `shuffle=True` to the `DataLoader` constructor.\n",
    "\n",
    "> ⚠️ **Only shuffle the training set!**\n",
    ">\n",
    "> It is considered bad practice to shuffle any of your evaluation sets, as this might make your evaluations irreproducible."
   ]
  },
  {
   "cell_type": "code",
   "execution_count": 24,
   "id": "f4c7cc79-1ce6-4315-a2a0-871668fc42dd",
   "metadata": {},
   "outputs": [],
   "source": [
    "dl_train = DataLoader(ds_train, batch_size=10, shuffle=True)"
   ]
  },
  {
   "cell_type": "markdown",
   "id": "2aa6e4c6-3cdc-4be5-a883-2eefb76219e0",
   "metadata": {},
   "source": [
    "When taking a look at the implementation of `__getitem__()` in our `PokemonDataset`, you'll see that it involves loading an image from disk with `read_image()` and applying image transforms. Both of these steps may block the computing process for a while. If we'd sequentially run `__getitem__()` for the 10 indices in our batch, it might take some time before the batch is created. Setting the argument `num_workers` as a positive integer will turn on **multi-process data loading** with the specified number of loader worker processes."
   ]
  },
  {
   "cell_type": "code",
   "execution_count": 25,
   "id": "737e4fb7-9e7e-4f43-833b-65847eb79eaf",
   "metadata": {},
   "outputs": [],
   "source": [
    "dl_train = DataLoader(ds_train, batch_size=10, shuffle=True, num_workers=10)"
   ]
  },
  {
   "cell_type": "markdown",
   "id": "2ca0f976-19db-42ee-8f35-07cdc1d7e781",
   "metadata": {},
   "source": [
    "In summary, the following code creates our train, validation and test datasets and data loaders."
   ]
  },
  {
   "cell_type": "code",
   "execution_count": 26,
   "id": "463f2957-4ac5-4209-9dc1-594fde0d4e3a",
   "metadata": {},
   "outputs": [],
   "source": [
    "# Create data loaders\n",
    "dl_train = DataLoader(ds_train, batch_size=10, shuffle=True)\n",
    "dl_val = DataLoader(ds_val, batch_size=10, shuffle=False)\n",
    "dl_test = DataLoader(ds_test, batch_size=10, shuffle=False)"
   ]
  },
  {
   "cell_type": "markdown",
   "id": "0fc0e5a5-b2fc-4c0a-9ed0-6a0e171bdf1c",
   "metadata": {},
   "source": [
    "And with this, we have covered everything on the data side! 💪 Our data is now ready to be passed into a neural network!"
   ]
  },
  {
   "cell_type": "code",
   "execution_count": null,
   "id": "9f4cccdf-820d-4540-abba-5ea4d3bf1381",
   "metadata": {},
   "outputs": [],
   "source": []
  }
 ],
 "metadata": {
  "kernelspec": {
   "display_name": "Python 3 (ipykernel)",
   "language": "python",
   "name": "python3"
  },
  "language_info": {
   "codemirror_mode": {
    "name": "ipython",
    "version": 3
   },
   "file_extension": ".py",
   "mimetype": "text/x-python",
   "name": "python",
   "nbconvert_exporter": "python",
   "pygments_lexer": "ipython3",
   "version": "3.11.6"
  }
 },
 "nbformat": 4,
 "nbformat_minor": 5
}
