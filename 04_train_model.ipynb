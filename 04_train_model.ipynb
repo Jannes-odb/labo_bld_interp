{
 "cells": [
  {
   "cell_type": "markdown",
   "id": "2c148fd0-8efc-40b4-883a-f525c49641a4",
   "metadata": {},
   "source": [
    "# 4. Training your model"
   ]
  },
  {
   "cell_type": "markdown",
   "id": "05e1501e-701f-48eb-bda5-d254831c5b5b",
   "metadata": {},
   "source": [
    "## 4.1 Initialize model and data"
   ]
  },
  {
   "cell_type": "code",
   "execution_count": null,
   "id": "2c8b1f73-f1be-4faf-a483-035753c54583",
   "metadata": {},
   "outputs": [],
   "source": []
  },
  {
   "cell_type": "markdown",
   "id": "2358f29f-56a3-4a18-a3e7-5d1ff1527d78",
   "metadata": {},
   "source": [
    "## 4.2 Create optimizer"
   ]
  },
  {
   "cell_type": "code",
   "execution_count": null,
   "id": "49ab9d4f-cbc8-470e-aa0b-c0612c6cdaac",
   "metadata": {},
   "outputs": [],
   "source": []
  },
  {
   "cell_type": "markdown",
   "id": "78adb730-69fb-41a8-bfc9-651f52cd6f1e",
   "metadata": {},
   "source": [
    "## 4.3 How will we monitor the training progress?"
   ]
  },
  {
   "cell_type": "code",
   "execution_count": null,
   "id": "8cedc881-0b9f-441f-829a-f18caed05195",
   "metadata": {},
   "outputs": [],
   "source": []
  },
  {
   "cell_type": "markdown",
   "id": "470fdb7a-cf23-4ddf-9815-4ed7ce662c5e",
   "metadata": {},
   "source": [
    "## 4.4 How can we save model checkpoints and hyperparameters?"
   ]
  },
  {
   "cell_type": "code",
   "execution_count": null,
   "id": "5d2a0f27-e9ec-409d-87dd-557542b2431c",
   "metadata": {},
   "outputs": [],
   "source": []
  },
  {
   "cell_type": "markdown",
   "id": "5db9ccf5-ff7e-49f0-a332-d534aaa88ef7",
   "metadata": {},
   "source": [
    "## 4.5 Putting it all together in a training loop"
   ]
  },
  {
   "cell_type": "code",
   "execution_count": null,
   "id": "534639e2-2f9c-410a-976c-c05a903c9cba",
   "metadata": {},
   "outputs": [],
   "source": []
  },
  {
   "cell_type": "markdown",
   "id": "c17929d9-2d5a-48c3-a20c-278867937973",
   "metadata": {},
   "source": [
    "## 4.6 Creating a `train.py` script"
   ]
  },
  {
   "cell_type": "code",
   "execution_count": null,
   "id": "8ac68db3-b665-4d37-8155-0f524b7642a7",
   "metadata": {},
   "outputs": [],
   "source": []
  }
 ],
 "metadata": {
  "kernelspec": {
   "display_name": "Python 3 (ipykernel)",
   "language": "python",
   "name": "python3"
  },
  "language_info": {
   "codemirror_mode": {
    "name": "ipython",
    "version": 3
   },
   "file_extension": ".py",
   "mimetype": "text/x-python",
   "name": "python",
   "nbconvert_exporter": "python",
   "pygments_lexer": "ipython3",
   "version": "3.11.6"
  }
 },
 "nbformat": 4,
 "nbformat_minor": 5
}
